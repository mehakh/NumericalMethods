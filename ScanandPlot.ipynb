{
  "nbformat": 4,
  "nbformat_minor": 0,
  "metadata": {
    "colab": {
      "provenance": [],
      "authorship_tag": "ABX9TyOU4xpRtVUz6HgUrLsSICPM",
      "include_colab_link": true
    },
    "kernelspec": {
      "name": "python3",
      "display_name": "Python 3"
    },
    "language_info": {
      "name": "python"
    }
  },
  "cells": [
    {
      "cell_type": "markdown",
      "metadata": {
        "id": "view-in-github",
        "colab_type": "text"
      },
      "source": [
        "<a href=\"https://colab.research.google.com/github/mehakh/NumericalMethods/blob/main/ScanandPlot.ipynb\" target=\"_parent\"><img src=\"https://colab.research.google.com/assets/colab-badge.svg\" alt=\"Open In Colab\"/></a>"
      ]
    },
    {
      "cell_type": "code",
      "execution_count": 7,
      "metadata": {
        "colab": {
          "base_uri": "https://localhost:8080/",
          "height": 317
        },
        "id": "qKkJBSq_Xf46",
        "outputId": "b5d434cc-0a4a-4315-e2b7-4f4f2aaef549"
      },
      "outputs": [
        {
          "output_type": "stream",
          "name": "stdout",
          "text": [
            "Total iteration: = 41\n",
            "x = 1.53269828096426863340 f(x) = -0.00000000003883826594\n"
          ]
        },
        {
          "output_type": "execute_result",
          "data": {
            "text/plain": [
              "[<matplotlib.lines.Line2D at 0x7f308a1a0c90>]"
            ]
          },
          "metadata": {},
          "execution_count": 7
        },
        {
          "output_type": "display_data",
          "data": {
            "text/plain": [
              "<Figure size 432x288 with 1 Axes>"
            ],
            "image/png": "[encoded data removed]"
          },
          "metadata": {
            "needs_background": "light"
          }
        }
      ],
      "source": [
        "import numpy as np;\n",
        "import matplotlib.pyplot as plt\n",
        "\n",
        "# given function\n",
        "def fx(x):\n",
        "  return -1.35*x**4-0.93*x**3+26.46*x**2 +16.20*x-76.19\n",
        "\n",
        "# bisection method\n",
        "def bisection(func, xFrom, xTo):\n",
        "    xmid = (xFrom + xTo) / 2\n",
        "    iter = 0\n",
        "    while (np.abs(func(xmid)) > 1e-10):\n",
        "        iter += 1\n",
        "        if (np.sign(func(xmid)) == np.sign(func(xFrom))):\n",
        "            xFrom = xmid\n",
        "        else:\n",
        "            xTo = xmid\n",
        "        xmid = (xFrom + xTo) / 2\n",
        "        #print('x = {0:.20f} f(x) = {1:.20f}'.format(xmid, func(xmid)))\n",
        "    print('Total iteration: = {0}'.format(iter))\n",
        "    return xmid\n",
        "\n",
        "\n",
        "\n",
        "# finding root in specified range [-5; -4]\n",
        "x1 = bisection(fx, -5, 5)\n",
        "print('x = {0:.20f} f(x) = {1:.20f}'.format(x1, fx(x1)))\n",
        "x = np.linspace(-4.5, 4, 100)\n",
        "y = fx(x)\n",
        "plt.plot(x,y)\n",
        "plt.plot(x1, fx(x1), markersize=10, marker='o')\n"
      ]
    }
  ]
}